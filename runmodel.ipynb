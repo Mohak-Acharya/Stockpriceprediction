{
 "cells": [
  {
   "cell_type": "code",
   "execution_count": 1,
   "metadata": {},
   "outputs": [],
   "source": [
    "def make_preds():\n",
    "    import numpy as np\n",
    "    import pandas as pd\n",
    "    import pickle\n",
    "\n",
    "    # Importing trained model.\n",
    "    with open('18BCE003_18BCE012_18BCE049_18BCE057.pkl', 'rb') as file:\n",
    "        pickled_model = pickle.load(file)\n",
    "\n",
    "    # Asking for test filename.\n",
    "    filename = input('Enter test filename (with extension): ')\n",
    "\n",
    "    # Importing test data.\n",
    "    test_data = pd.read_csv(filename)\n",
    "\n",
    "    # Making predictions.\n",
    "    preds = pickled_model.predict(test_data)\n",
    "\n",
    "    # Saving predictions in output.csv file.\n",
    "    pd.DataFrame(preds).to_csv('output.csv', header=False, index=False)\n",
    "    \n",
    "    print('\\nPredictions saved in \\'output.csv\\'')"
   ]
  },
  {
   "cell_type": "code",
   "execution_count": 2,
   "metadata": {},
   "outputs": [
    {
     "name": "stdout",
     "output_type": "stream",
     "text": [
      "Enter test filename (with extension): test.csv\n",
      "\n",
      "Predictions saved in 'output.csv'\n"
     ]
    }
   ],
   "source": [
    "make_preds()"
   ]
  },
  {
   "cell_type": "code",
   "execution_count": null,
   "metadata": {},
   "outputs": [],
   "source": []
  }
 ],
 "metadata": {
  "kernelspec": {
   "display_name": "Python 3",
   "language": "python",
   "name": "python3"
  },
  "language_info": {
   "codemirror_mode": {
    "name": "ipython",
    "version": 3
   },
   "file_extension": ".py",
   "mimetype": "text/x-python",
   "name": "python",
   "nbconvert_exporter": "python",
   "pygments_lexer": "ipython3",
   "version": "3.7.4"
  }
 },
 "nbformat": 4,
 "nbformat_minor": 4
}
