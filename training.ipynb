{
 "cells": [
  {
   "cell_type": "markdown",
   "metadata": {},
   "source": [
    "# Stock Market Price Prediction.\n",
    "\n",
    "## Data Dictionary\n",
    "\n",
    "#### Open\n",
    "The opening price is the price from the first transaction of a business day.\n",
    "\n",
    "During a regular trading day, the balance between supply and demand fluctuates as the attractiveness of the stock's price increases and decreases. Therefore, the opening price may or may not be different from the previous day's closing price. A stock’s closing price that determines how a share performed during the day.\n",
    "\n",
    "#### High\n",
    "The high is the highest price at which a stock traded during a period.\n",
    "\n",
    "#### Low\n",
    "The low is the lowest price at which a stock traded during a period.\n",
    "\n",
    "#### Volume\n",
    "The volume is the number of shares that changed hands during a given day.\n",
    "\n",
    "If there's a higher volume of trading in a particular stock, that naturally means that investors are interested in buying or selling it. If volume and price are on the rise, it means investors are betting the company will do well. If volume is up but price is down, it means more investors are looking to sell.\n",
    "\n",
    "#### Adjusted Close\n",
    "The adjusted closing price amends a stock's closing price to reflect that stock's value after accounting for any corporate actions. It factors in anything that might affect the stock price after the market closes. "
   ]
  },
  {
   "cell_type": "code",
   "execution_count": 1,
   "metadata": {},
   "outputs": [],
   "source": [
    "# Importing required libraries.\n",
    "import pandas as pd\n",
    "import numpy as np\n",
    "from sklearn.tree import DecisionTreeRegressor\n",
    "import pickle"
   ]
  },
  {
   "cell_type": "code",
   "execution_count": 2,
   "metadata": {},
   "outputs": [],
   "source": [
    "# Opening dataset.\n",
    "data = pd.read_excel('train_data.xlsx', index_col=False, sheet_name=None)\n",
    "data_train = data['Train'].copy()"
   ]
  },
  {
   "cell_type": "code",
   "execution_count": 3,
   "metadata": {},
   "outputs": [],
   "source": [
    "# Removing null rows.\n",
    "data_train.dropna(inplace=True)\n",
    "data_train.reset_index(inplace=True, drop=True)\n",
    "\n",
    "# Splitting dataset into X & y.\n",
    "X = data_train.iloc[:, :-1]\n",
    "y = data_train.iloc[:, -1]"
   ]
  },
  {
   "cell_type": "code",
   "execution_count": 4,
   "metadata": {},
   "outputs": [
    {
     "data": {
      "text/plain": [
       "DecisionTreeRegressor()"
      ]
     },
     "execution_count": 4,
     "metadata": {},
     "output_type": "execute_result"
    }
   ],
   "source": [
    "# Instantiating model.\n",
    "reg = DecisionTreeRegressor()\n",
    "\n",
    "# Fitting data to model\n",
    "reg.fit(X, y)"
   ]
  },
  {
   "cell_type": "code",
   "execution_count": 9,
   "metadata": {},
   "outputs": [],
   "source": [
    "# Using pickle to save the model.\n",
    "with open('18BCE003_18BCE012_18BCE049_18BCE057.pkl', 'wb') as file:\n",
    "    pickle.dump(reg, file)"
   ]
  },
  {
   "cell_type": "code",
   "execution_count": 10,
   "metadata": {},
   "outputs": [
    {
     "data": {
      "text/html": [
       "<div>\n",
       "<style scoped>\n",
       "    .dataframe tbody tr th:only-of-type {\n",
       "        vertical-align: middle;\n",
       "    }\n",
       "\n",
       "    .dataframe tbody tr th {\n",
       "        vertical-align: top;\n",
       "    }\n",
       "\n",
       "    .dataframe thead th {\n",
       "        text-align: right;\n",
       "    }\n",
       "</style>\n",
       "<table border=\"1\" class=\"dataframe\">\n",
       "  <thead>\n",
       "    <tr style=\"text-align: right;\">\n",
       "      <th></th>\n",
       "      <th>0</th>\n",
       "    </tr>\n",
       "  </thead>\n",
       "  <tbody>\n",
       "    <tr>\n",
       "      <th>0</th>\n",
       "      <td>66783.000000</td>\n",
       "    </tr>\n",
       "    <tr>\n",
       "      <th>1</th>\n",
       "      <td>66193.468750</td>\n",
       "    </tr>\n",
       "    <tr>\n",
       "      <th>2</th>\n",
       "      <td>66783.000000</td>\n",
       "    </tr>\n",
       "    <tr>\n",
       "      <th>3</th>\n",
       "      <td>66783.000000</td>\n",
       "    </tr>\n",
       "    <tr>\n",
       "      <th>4</th>\n",
       "      <td>66783.000000</td>\n",
       "    </tr>\n",
       "    <tr>\n",
       "      <th>...</th>\n",
       "      <td>...</td>\n",
       "    </tr>\n",
       "    <tr>\n",
       "      <th>433</th>\n",
       "      <td>60264.378906</td>\n",
       "    </tr>\n",
       "    <tr>\n",
       "      <th>434</th>\n",
       "      <td>60264.378906</td>\n",
       "    </tr>\n",
       "    <tr>\n",
       "      <th>435</th>\n",
       "      <td>58024.410156</td>\n",
       "    </tr>\n",
       "    <tr>\n",
       "      <th>436</th>\n",
       "      <td>59012.859375</td>\n",
       "    </tr>\n",
       "    <tr>\n",
       "      <th>437</th>\n",
       "      <td>59012.859375</td>\n",
       "    </tr>\n",
       "  </tbody>\n",
       "</table>\n",
       "<p>438 rows × 1 columns</p>\n",
       "</div>"
      ],
      "text/plain": [
       "                0\n",
       "0    66783.000000\n",
       "1    66193.468750\n",
       "2    66783.000000\n",
       "3    66783.000000\n",
       "4    66783.000000\n",
       "..            ...\n",
       "433  60264.378906\n",
       "434  60264.378906\n",
       "435  58024.410156\n",
       "436  59012.859375\n",
       "437  59012.859375\n",
       "\n",
       "[438 rows x 1 columns]"
      ]
     },
     "execution_count": 10,
     "metadata": {},
     "output_type": "execute_result"
    }
   ],
   "source": [
    "# Loading the saved model with pickle.\n",
    "with open('18BCE003_18BCE012_18BCE049_18BCE057.pkl', 'rb') as file:\n",
    "    pickled_model = pickle.load(file)\n",
    "    \n",
    "# Making predictions with loaded model.\n",
    "y_preds = pickled_model.predict(data['Test'])\n",
    "\n",
    "# Checking predictions.\n",
    "pd.DataFrame(y_preds)"
   ]
  },
  {
   "cell_type": "code",
   "execution_count": null,
   "metadata": {},
   "outputs": [],
   "source": []
  }
 ],
 "metadata": {
  "kernelspec": {
   "display_name": "Python 3",
   "language": "python",
   "name": "python3"
  },
  "language_info": {
   "codemirror_mode": {
    "name": "ipython",
    "version": 3
   },
   "file_extension": ".py",
   "mimetype": "text/x-python",
   "name": "python",
   "nbconvert_exporter": "python",
   "pygments_lexer": "ipython3",
   "version": "3.7.4"
  }
 },
 "nbformat": 4,
 "nbformat_minor": 4
}
